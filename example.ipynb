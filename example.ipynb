{
 "metadata": {
  "name": "",
  "signature": "sha256:b23a1e62f862313214e6a7f73822c16ff6dbecef237dbaee3d8e60cc18a405d8"
 },
 "nbformat": 3,
 "nbformat_minor": 0,
 "worksheets": [
  {
   "cells": [
    {
     "cell_type": "code",
     "collapsed": false,
     "input": [
      "# show plots inside the notebook \n",
      "%matplotlib inline"
     ],
     "language": "python",
     "metadata": {},
     "outputs": [],
     "prompt_number": 1
    },
    {
     "cell_type": "heading",
     "level": 1,
     "metadata": {},
     "source": [
      "Example: Network of alliance and trade between countries"
     ]
    },
    {
     "cell_type": "markdown",
     "metadata": {},
     "source": [
      "This notebook shows a step by step example of how to construct the Multiplex Markov Chain from longitudinal data on a multiplex network with two layers. The Multiplex Markov chain helps to detect \"dynamical spillover\". See the following paper for details:"
     ]
    },
    {
     "cell_type": "markdown",
     "metadata": {},
     "source": [
      "In our dataset, the nodes are countries in the world and the two layers are alliance and trade. The data starts in 1950 and ends in 2003. The input data has alliance as the first layer and trade as the second layer. Here are the first few lines of the file that stores the data about edges present in the network."
     ]
    },
    {
     "cell_type": "code",
     "collapsed": false,
     "input": [
      "with open(\"groom_status_edges.csv\",\"r\") as f:\n",
      "    for i in range(6):\n",
      "        print((f.readline()).rstrip())"
     ],
     "language": "python",
     "metadata": {},
     "outputs": [
      {
       "output_type": "stream",
       "stream": "stdout",
       "text": [
        "week,monkey1,monkey2,grooming,status\n",
        "0,38412,39269,1,0\n",
        "0,37830,34839,1,0\n",
        "0,40541,27993,0,1\n",
        "0,37977,41261,1,0\n",
        "0,39925,35532,0,1\n"
       ]
      }
     ],
     "prompt_number": 33
    },
    {
     "cell_type": "markdown",
     "metadata": {},
     "source": [
      "The multiplex network has two layers. Therefore, every edge in this network has four possible states: no alliance or trade (state:0 {labelled at}), only alliance (state:1 {labelled At}), only trade (state:2 {labelled aT}) or both alliance and trade (state:3 {labelled AT}). Therefore, from one year to the next, there are sixteen possible transitions. The transition from state $S_t = \\{0,1,2,3\\}$ to state $S_{t+1} = \\{0,1,2,3\\}$ is denoted as transition $i = 4S_t + S_{t+1}$.  "
     ]
    },
    {
     "cell_type": "code",
     "collapsed": false,
     "input": [
      "# first convert the multiplex network data into transition counts of a Markov chain\n",
      "from extract_counts import *"
     ],
     "language": "python",
     "metadata": {},
     "outputs": [],
     "prompt_number": 28
    },
    {
     "cell_type": "markdown",
     "metadata": {},
     "source": [
      "The following gives us a dictionary with the index as the year. The entry corresponding to the year gives us the counts associated with that year to the next, say $y \\to y+1$. There are several instances in the dataset where a country exists in year $y$ but not in year $y+1$ and vice versa. The parameter \"method\" decides how we handle such cases. The parameter accepts two values: \"union\", \"intersection\". When we choose \"union\" the node is included in the counts if it is present in at least one of the timesteps. If we choose \"intersection\" the node is included in the counts only if it is present in both years."
     ]
    },
    {
     "cell_type": "code",
     "collapsed": false,
     "input": [
      "counts_by_year = compute_counts_from_file(\"./agg_status_edges.csv\", \"./ags_nodes.csv\", method=\"intersection\")"
     ],
     "language": "python",
     "metadata": {},
     "outputs": [
      {
       "output_type": "stream",
       "stream": "stderr",
       "text": [
        "WARNING:multiplex_markov_chain:Line not in proper format. Ignoring 1,39085,0,1\n"
       ]
      },
      {
       "output_type": "stream",
       "stream": "stderr",
       "text": [
        "INFO:multiplex_markov_chain:Getting counts for 0-->1\n"
       ]
      },
      {
       "output_type": "stream",
       "stream": "stderr",
       "text": [
        "WARNING:multiplex_markov_chain:Line not in proper format. Ignoring 2,33116,1,0\n"
       ]
      },
      {
       "output_type": "stream",
       "stream": "stderr",
       "text": [
        "INFO:multiplex_markov_chain:Getting counts for 1-->2\n"
       ]
      },
      {
       "output_type": "stream",
       "stream": "stderr",
       "text": [
        "WARNING:multiplex_markov_chain:Line not in proper format. Ignoring 3,40262,1,0\n"
       ]
      },
      {
       "output_type": "stream",
       "stream": "stderr",
       "text": [
        "INFO:multiplex_markov_chain:Getting counts for 2-->3\n"
       ]
      },
      {
       "output_type": "stream",
       "stream": "stderr",
       "text": [
        "INFO:multiplex_markov_chain:Getting counts for 3-->4\n"
       ]
      },
      {
       "output_type": "stream",
       "stream": "stderr",
       "text": [
        "INFO:multiplex_markov_chain:Getting counts for 4-->5\n"
       ]
      },
      {
       "output_type": "stream",
       "stream": "stderr",
       "text": [
        "INFO:multiplex_markov_chain:Reached end of edge list\n"
       ]
      },
      {
       "output_type": "stream",
       "stream": "stderr",
       "text": [
        "INFO:multiplex_markov_chain:Getting counts for 5-->6\n"
       ]
      }
     ],
     "prompt_number": 35
    },
    {
     "cell_type": "markdown",
     "metadata": {},
     "source": [
      "An array (of size $16$) which contains the counts of each of the $16$ possible transitions is associated with each year."
     ]
    },
    {
     "cell_type": "code",
     "collapsed": false,
     "input": [
      "# check how the counts look\n",
      "counts_by_year[\"0\"]"
     ],
     "language": "python",
     "metadata": {},
     "outputs": [
      {
       "metadata": {},
       "output_type": "pyout",
       "prompt_number": 15,
       "text": [
        "array([3764,  173,  108,    8,  167,  116,    3,    5,  164,   13,   16,\n",
        "          0,   10,    7,    3,    3])"
       ]
      }
     ],
     "prompt_number": 15
    },
    {
     "cell_type": "markdown",
     "metadata": {},
     "source": [
      "Having obtained the counts, we can now construct the Multiplex Markov chain, compute the null model and check for transitions that are significantly different due to interaction between the two layers. Since our purpose here is to illustrate how to use the code, we will accumulate all the counts from 1950 to 2003. We do a more careful analysis of whether such an aggregation is justified in the article ()."
     ]
    },
    {
     "cell_type": "code",
     "collapsed": false,
     "input": [
      "# make np array of dictionary and sum counts\n",
      "counts = np.sum(np.array(list(counts_by_year.values())),axis=0)"
     ],
     "language": "python",
     "metadata": {},
     "outputs": [],
     "prompt_number": 16
    },
    {
     "cell_type": "code",
     "collapsed": false,
     "input": [
      "print(counts)"
     ],
     "language": "python",
     "metadata": {},
     "outputs": [
      {
       "output_type": "stream",
       "stream": "stdout",
       "text": [
        "[23288   945   918    35   943   641    38    14   907    41    95     4\n",
        "    35    26     6     3]\n"
       ]
      }
     ],
     "prompt_number": 17
    },
    {
     "cell_type": "markdown",
     "metadata": {},
     "source": [
      "The above counts are what we will use to construct our Multiplex Markov chain and the corresponding null model. We import the corresponding class and construct the Multiplex Markov chain."
     ]
    },
    {
     "cell_type": "code",
     "collapsed": false,
     "input": [
      "from MultiplexMarkovChain import *"
     ],
     "language": "python",
     "metadata": {},
     "outputs": [],
     "prompt_number": 18
    },
    {
     "cell_type": "code",
     "collapsed": false,
     "input": [
      "mmc = MultiplexMarkovChain(counts)"
     ],
     "language": "python",
     "metadata": {},
     "outputs": [],
     "prompt_number": 19
    },
    {
     "cell_type": "code",
     "collapsed": false,
     "input": [
      "# print the parameters of the Markov chain associated with the transitions (this is the probability of transition i)\n",
      "mmc.get_parameters()"
     ],
     "language": "python",
     "metadata": {},
     "outputs": [
      {
       "metadata": {},
       "output_type": "pyout",
       "prompt_number": 20,
       "text": [
        "array([ 0.92453355,  0.03755459,  0.03648273,  0.00142914,  0.57560976,\n",
        "        0.39146341,  0.02378049,  0.00914634,  0.86393911,  0.03996194,\n",
        "        0.09134158,  0.00475737,  0.48648649,  0.36486486,  0.09459459,\n",
        "        0.05405405])"
       ]
      }
     ],
     "prompt_number": 20
    },
    {
     "cell_type": "code",
     "collapsed": false,
     "input": [
      "#print the corresponding null probability\n",
      "mmc.get_null_prob()"
     ],
     "language": "python",
     "metadata": {},
     "outputs": [
      {
       "output_type": "stream",
       "stream": "stderr",
       "text": [
        "MultiplexMarkovChain.py:231: UserWarning: Some of the state totals are less than 100. Gaussian approximation may not be justified.\n",
        "  warn(\"Some of the state totals are less than 100. Gaussian approximation may not be justified.\")\n"
       ]
      },
      {
       "metadata": {},
       "output_type": "pyout",
       "prompt_number": 21,
       "text": [
        "array([ 0.92485491,  0.03764136,  0.03603703,  0.0014667 ,  0.57648342,\n",
        "        0.38601285,  0.02246271,  0.01504102,  0.86729299,  0.03529861,\n",
        "        0.09359895,  0.00380945,  0.54060375,  0.36198785,  0.05834238,\n",
        "        0.03906602])"
       ]
      }
     ],
     "prompt_number": 21
    },
    {
     "cell_type": "code",
     "collapsed": false,
     "input": [
      "# print state totals\n",
      "mmc.get_state_totals()"
     ],
     "language": "python",
     "metadata": {},
     "outputs": [
      {
       "metadata": {},
       "output_type": "pyout",
       "prompt_number": 22,
       "text": [
        "array([ 25186.,   1636.,   1047.,     70.])"
       ]
      }
     ],
     "prompt_number": 22
    },
    {
     "cell_type": "markdown",
     "metadata": {},
     "source": [
      "In order determine if spillover exists between the alliance and trade layer we need to check if the transition parameters of the Multiplex Markov chain are \"substantially\" different from those of the null model. We can do this by checking if the confidence interval for the Multiplex Markov chain and the null model overlap. In this example (and in the article) we choose the 99% confidence interval. Since our state totals are of the order of $10^4$, we can construct the confidence interval using a Gaussian approximation. "
     ]
    },
    {
     "cell_type": "markdown",
     "metadata": {},
     "source": [
      "Note: For a Gaussian distribution the 99% confidence interval is given by $\\mu \\pm 2.58 \\sigma$, where $\\mu$ is the mean and $\\sigma$ is the standard deviation. "
     ]
    },
    {
     "cell_type": "code",
     "collapsed": false,
     "input": [
      "import matplotlib.pylab as plt"
     ],
     "language": "python",
     "metadata": {},
     "outputs": [],
     "prompt_number": 23
    },
    {
     "cell_type": "code",
     "collapsed": false,
     "input": [
      "z_alpha = 2.58 # change to alter level of confidence"
     ],
     "language": "python",
     "metadata": {},
     "outputs": [],
     "prompt_number": 24
    },
    {
     "cell_type": "code",
     "collapsed": false,
     "input": [
      "# Plot to check for overlap in confidence intervals\n",
      "plt.clf()\n",
      "fig = plt.figure(figsize=(16, 8))\n",
      "y = mmc.get_parameters()\n",
      "y_std = z_alpha*mmc.get_std_dev()\n",
      "y_null = mmc.get_null_prob()\n",
      "y_null_std = yerr=z_alpha*mmc.get_null_std_dev()\n",
      "state_labels = {0:'gs', 1:'Gs', 2:'gS', 3:'GS'}\n",
      "xlabels = []\n",
      "# prepare transition label\n",
      "for i in range(4):\n",
      "    for j in range(4):\n",
      "        index = 4*i + j\n",
      "        ax = plt.subplot2grid((4,4),(i,j))\n",
      "        ax.errorbar([1], y[index], yerr=y_std[index], fmt=\"o\", label=\"MMC\")\n",
      "        ax.errorbar([1], y_null[index], yerr=y_null_std[index], fmt=\"s\", color=\"r\", label=\"Null\")\n",
      "        ttext = state_labels[i] + \"-->\" + state_labels[j]\n",
      "        ax.set_title(ttext)\n",
      "        ax.tick_params(axis='x', which='both', bottom='off', top='off', labelbottom='off') #don't display xticks\n",
      "fig.subplots_adjust(wspace=0.4)"
     ],
     "language": "python",
     "metadata": {},
     "outputs": [
      {
       "metadata": {},
       "output_type": "display_data",
       "text": [
        "<matplotlib.figure.Figure at 0x14e82550>"
       ]
      },
      {
       "metadata": {},
       "output_type": "display_data",
       "png": "[encoded data removed]",
       "text": [
        "<matplotlib.figure.Figure at 0x14e82f60>"
       ]
      }
     ],
     "prompt_number": 26
    },
    {
     "cell_type": "markdown",
     "metadata": {},
     "source": [
      "From the above panel of figures we can determine which of these transitions exhibit dynamical spillover. We discuss the implications of the spillover in the article that can be found "
     ]
    },
    {
     "cell_type": "code",
     "collapsed": false,
     "input": [],
     "language": "python",
     "metadata": {},
     "outputs": [],
     "prompt_number": 15
    }
   ],
   "metadata": {}
  }
 ]
}